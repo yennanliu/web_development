{
 "cells": [
  {
   "cell_type": "code",
   "execution_count": 1,
   "metadata": {},
   "outputs": [
    {
     "name": "stdout",
     "output_type": "stream",
     "text": [
      "Untitled.ipynb   car_data.db      ldn.geo.json     utility.js\r\n",
      "\u001b[1m\u001b[32mapp.js\u001b[m\u001b[m*          csv_2_sqlite.sh  readme.md        utility.py\r\n",
      "car_data.csv     \u001b[1m\u001b[32mindex.html\u001b[m\u001b[m*      \u001b[1m\u001b[32mstyle.css\u001b[m\u001b[m*\r\n"
     ]
    }
   ],
   "source": [
    "ls "
   ]
  },
  {
   "cell_type": "code",
   "execution_count": 32,
   "metadata": {},
   "outputs": [],
   "source": [
    "import pandas as pd\n",
    "df=pd.read_csv('car_data.csv')"
   ]
  },
  {
   "cell_type": "code",
   "execution_count": 33,
   "metadata": {},
   "outputs": [
    {
     "data": {
      "text/html": [
       "<div>\n",
       "<style scoped>\n",
       "    .dataframe tbody tr th:only-of-type {\n",
       "        vertical-align: middle;\n",
       "    }\n",
       "\n",
       "    .dataframe tbody tr th {\n",
       "        vertical-align: top;\n",
       "    }\n",
       "\n",
       "    .dataframe thead th {\n",
       "        text-align: right;\n",
       "    }\n",
       "</style>\n",
       "<table border=\"1\" class=\"dataframe\">\n",
       "  <thead>\n",
       "    <tr style=\"text-align: right;\">\n",
       "      <th></th>\n",
       "      <th>'car_name'</th>\n",
       "      <th>'lon'</th>\n",
       "      <th>'lat'</th>\n",
       "      <th>'val1'</th>\n",
       "      <th>'val2'</th>\n",
       "    </tr>\n",
       "  </thead>\n",
       "  <tbody>\n",
       "    <tr>\n",
       "      <th>0</th>\n",
       "      <td>car_a</td>\n",
       "      <td>51.5074</td>\n",
       "      <td>0.1278</td>\n",
       "      <td>4</td>\n",
       "      <td>10</td>\n",
       "    </tr>\n",
       "    <tr>\n",
       "      <th>1</th>\n",
       "      <td>car_b</td>\n",
       "      <td>51.5074</td>\n",
       "      <td>0.1478</td>\n",
       "      <td>5</td>\n",
       "      <td>1</td>\n",
       "    </tr>\n",
       "    <tr>\n",
       "      <th>2</th>\n",
       "      <td>mycar</td>\n",
       "      <td>51.5174</td>\n",
       "      <td>0.1578</td>\n",
       "      <td>3</td>\n",
       "      <td>10</td>\n",
       "    </tr>\n",
       "  </tbody>\n",
       "</table>\n",
       "</div>"
      ],
      "text/plain": [
       "  'car_name'    'lon'   'lat'  'val1'  'val2'\n",
       "0      car_a  51.5074  0.1278       4      10\n",
       "1      car_b  51.5074  0.1478       5       1\n",
       "2      mycar  51.5174  0.1578       3      10"
      ]
     },
     "execution_count": 33,
     "metadata": {},
     "output_type": "execute_result"
    }
   ],
   "source": [
    "df.head(3)"
   ]
  },
  {
   "cell_type": "code",
   "execution_count": 51,
   "metadata": {},
   "outputs": [],
   "source": [
    "# python 3 \n",
    "\n",
    "\n",
    "import csv\n",
    "import sqlite3\n",
    "\n",
    "def csv_2_array(file):\n",
    "\twith open(file, 'r') as f:\n",
    "\t\treader = csv.reader(f)\n",
    "\t\tyour_list = list(reader)\n",
    "\n",
    "\tprint(your_list)\n",
    "\treturn your_list\n",
    "\n",
    "\n",
    "def sqlite_2_array(db_name):\n",
    "\toutput=[]\n",
    "\tconn = sqlite3.connect(db_name)\n",
    "\tc = conn.cursor()\n",
    "\tsql_get_car_date = \"\"\"SELECT * FROM car_data\"\"\"\n",
    "\tprint (sql_get_car_date)\n",
    "\tfor row in c.execute(sql_get_car_date):\n",
    "\t\tprint (row)\n",
    "\t\toutput.append(row)\n",
    "\tprint ('------------')\n",
    "\tprint (output)\n",
    "\treturn output\n",
    "\n",
    "def sqlite_2_array_(db_name):\n",
    "    conn = sqlite3.connect('car_data.db')\n",
    "    #conn.row_factory = lambda cursor, row: [row[0],row[1]]\n",
    "    conn.row_factory = lambda cursor, row: [row[x] for x in range(5)]\n",
    "    c = conn.cursor()\n",
    "    sql_get_car_date = \"\"\"SELECT * FROM car_data\"\"\"\n",
    "    print (sql_get_car_date)\n",
    "    # tranform python sqlite3 output from  tuple to array \n",
    "    # https://stackoverflow.com/questions/2854011/get-a-list-of-field-values-from-pythons-sqlite3-not-tuples-representing-rows\n",
    "    output = list(c.execute(sql_get_car_date).fetchall())\n",
    "    return output"
   ]
  },
  {
   "cell_type": "code",
   "execution_count": 52,
   "metadata": {},
   "outputs": [
    {
     "name": "stdout",
     "output_type": "stream",
     "text": [
      "SELECT * FROM car_data\n"
     ]
    }
   ],
   "source": [
    "output= sqlite_2_array_('car_data.db')\n"
   ]
  },
  {
   "cell_type": "code",
   "execution_count": 53,
   "metadata": {},
   "outputs": [
    {
     "data": {
      "text/plain": [
       "[['car_a', '51.5074', '0.1278', '4', '10'],\n",
       " ['car_b', '51.5074', '0.1478', '5', '1'],\n",
       " ['mycar', '51.5174', '0.1578', '3', '10'],\n",
       " ['botvan', '51.5174', '0.1238', '2', '5'],\n",
       " ['gvan', '51.5174', '0.1238', '2', '4'],\n",
       " ['lavan', '51.1174', '0.138', '2', '7'],\n",
       " ['uvan', '51.3174', '0.168', '2', '9'],\n",
       " ['zvan', '51.6174', '0.188', '2', '11']]"
      ]
     },
     "execution_count": 53,
     "metadata": {},
     "output_type": "execute_result"
    }
   ],
   "source": [
    "output"
   ]
  },
  {
   "cell_type": "code",
   "execution_count": 23,
   "metadata": {},
   "outputs": [
    {
     "data": {
      "text/plain": [
       "[0, 1, 2]"
      ]
     },
     "execution_count": 23,
     "metadata": {},
     "output_type": "execute_result"
    }
   ],
   "source": [
    "[x for x in range(3)]"
   ]
  },
  {
   "cell_type": "code",
   "execution_count": 49,
   "metadata": {},
   "outputs": [
    {
     "name": "stdout",
     "output_type": "stream",
     "text": [
      "SELECT * FROM car_data\n"
     ]
    }
   ],
   "source": [
    "conn = sqlite3.connect('car_data.db')\n",
    "#conn.row_factory = lambda cursor, row: [row[0],row[1]]\n",
    "conn.row_factory = lambda cursor, row: [row[x] for x in range(5)]\n",
    "c = conn.cursor()\n",
    "sql_get_car_date = \"\"\"SELECT * FROM car_data\"\"\"\n",
    "print (sql_get_car_date)\n",
    "# tranform python sqlite3 output from  tuple to array \n",
    "# https://stackoverflow.com/questions/2854011/get-a-list-of-field-values-from-pythons-sqlite3-not-tuples-representing-rows\n",
    "output = list(c.execute(sql_get_car_date).fetchall())"
   ]
  },
  {
   "cell_type": "code",
   "execution_count": 8,
   "metadata": {},
   "outputs": [
    {
     "data": {
      "text/plain": [
       "<sqlite3.Cursor at 0x105379c00>"
      ]
     },
     "execution_count": 8,
     "metadata": {},
     "output_type": "execute_result"
    }
   ],
   "source": []
  },
  {
   "cell_type": "code",
   "execution_count": 50,
   "metadata": {},
   "outputs": [
    {
     "data": {
      "text/plain": [
       "[['car_a', '51.5074', '0.1278', '4', '10'],\n",
       " ['car_b', '51.5074', '0.1478', '5', '1'],\n",
       " ['mycar', '51.5174', '0.1578', '3', '10'],\n",
       " ['botvan', '51.5174', '0.1238', '2', '5'],\n",
       " ['gvan', '51.5174', '0.1238', '2', '4'],\n",
       " ['lavan', '51.1174', '0.138', '2', '7'],\n",
       " ['uvan', '51.3174', '0.168', '2', '9'],\n",
       " ['zvan', '51.6174', '0.188', '2', '11']]"
      ]
     },
     "execution_count": 50,
     "metadata": {},
     "output_type": "execute_result"
    }
   ],
   "source": [
    "output"
   ]
  },
  {
   "cell_type": "code",
   "execution_count": 9,
   "metadata": {},
   "outputs": [
    {
     "data": {
      "text/plain": [
       "list"
      ]
     },
     "execution_count": 9,
     "metadata": {},
     "output_type": "execute_result"
    }
   ],
   "source": [
    "type(output)"
   ]
  },
  {
   "cell_type": "code",
   "execution_count": 14,
   "metadata": {},
   "outputs": [
    {
     "data": {
      "text/plain": [
       "tuple"
      ]
     },
     "execution_count": 14,
     "metadata": {},
     "output_type": "execute_result"
    }
   ],
   "source": [
    "type(output[0][0])"
   ]
  }
 ],
 "metadata": {
  "kernelspec": {
   "display_name": "Python 3",
   "language": "python",
   "name": "python3"
  },
  "language_info": {
   "codemirror_mode": {
    "name": "ipython",
    "version": 3
   },
   "file_extension": ".py",
   "mimetype": "text/x-python",
   "name": "python",
   "nbconvert_exporter": "python",
   "pygments_lexer": "ipython3",
   "version": "3.5.4"
  }
 },
 "nbformat": 4,
 "nbformat_minor": 2
}
